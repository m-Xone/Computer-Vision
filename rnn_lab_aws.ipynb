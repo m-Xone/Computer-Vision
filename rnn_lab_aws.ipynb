{
 "cells": [
  {
   "cell_type": "markdown",
   "metadata": {},
   "source": [
    "# Recurrent Neural Networks\n",
    "\n",
    "In this lab we will experiment with recurrent neural networks. We will build a text generation model that predicts a word given the previous words, and hence will allow us to generate a sentence. This can easily be extended to generating a sentence description for a given input image. RNNs are a useful type of model for predicting sequences or handling sequences of things as inputs. In this lab we will use again Pytorch's nn library.\n",
    "\n",
    "We will also be using the COCO dataset which includes images + textual descriptions (captions) + other annotations. We can browse the dataset here: http://cocodataset.org/#home\n",
    "\n",
    "First, let's import libraries and make sure we have everything properly installed."
   ]
  },
  {
   "cell_type": "code",
   "execution_count": 73,
   "metadata": {
    "collapsed": true
   },
   "outputs": [],
   "source": [
    "import torch, json, string\n",
    "import torch.nn as nn\n",
    "import torch.autograd\n",
    "from torch.autograd import Variable\n",
    "import torch.utils.data as data\n",
    "import numpy as np\n",
    "import nltk as nltk\n",
    "from nltk.tokenize import word_tokenize\n",
    "from torchvision.models import resnet18 as resnet18\n",
    "from PIL import Image\n",
    "import torchvision.transforms as transforms\n",
    "from torch.optim import lr_scheduler\n",
    "from tqdm import tqdm as tqdm"
   ]
  },
  {
   "cell_type": "markdown",
   "metadata": {},
   "source": [
    "## 1. Loading and Preprocessing the Text\n",
    "Pytorch comes with a Dataset class for the COCO dataset but I will write my own class here. This class does two important things: 1) Building a vocabulary with the most frequent words, 2) Building utilities to convert a sentence into a list of word ids, and back. We are not going to be using the images for the purposes of the lab but you will use them in the assignment questions."
   ]
  },
  {
   "cell_type": "code",
   "execution_count": 2,
   "metadata": {},
   "outputs": [
    {
     "data": {
      "application/vnd.jupyter.widget-view+json": {
       "model_id": "68a46418b1a642838c614c1f4b9c6ad0",
       "version_major": 2,
       "version_minor": 0
      },
      "text/html": [
       "<p>Failed to display Jupyter Widget of type <code>HBox</code>.</p>\n",
       "<p>\n",
       "  If you're reading this message in Jupyter Notebook or JupyterLab, it may mean\n",
       "  that the widgets JavaScript is still loading. If this message persists, it\n",
       "  likely means that the widgets JavaScript library is either not installed or\n",
       "  not enabled. See the <a href=\"https://ipywidgets.readthedocs.io/en/stable/user_install.html\">Jupyter\n",
       "  Widgets Documentation</a> for setup instructions.\n",
       "</p>\n",
       "<p>\n",
       "  If you're reading this message in another notebook frontend (for example, a static\n",
       "  rendering on GitHub or <a href=\"https://nbviewer.jupyter.org/\">NBViewer</a>),\n",
       "  it may mean that your frontend doesn't currently support widgets.\n",
       "</p>\n"
      ],
      "text/plain": [
       "HBox(children=(IntProgress(value=0, description=u'Building vocabulary', max=414113), HTML(value=u'')))"
      ]
     },
     "metadata": {},
     "output_type": "display_data"
    },
    {
     "name": "stdout",
     "output_type": "stream",
     "text": [
      "\n",
      "('Number of training examples: ', 414113)\n",
      "('Number of validation examples: ', 202654)\n",
      "('imgId', 318556)\n",
      "('caption', [5001, 1, 141, 512, 8, 668, 415, 277, 57, 0])\n",
      "('captionString', u'[START] a very clean and well decorated empty bathroom [END]')\n"
     ]
    }
   ],
   "source": [
    "from tqdm import tqdm_notebook as tqdm\n",
    "\n",
    "class CocoCaptions(data.Dataset):\n",
    "    # Load annotations in the initialization of the object.\n",
    "    def __init__(self, captionsFile, vocabulary = None):\n",
    "        self.data = json.load(open(captionsFile))\n",
    "        self.imageIds = self.data['images']\n",
    "        self.annotations = self.data['annotations']\n",
    "        \n",
    "        # Build a vocabulary if not provided.\n",
    "        if not vocabulary:\n",
    "            self.build_vocabulary()\n",
    "        else:\n",
    "            self.vocabulary = vocabulary\n",
    "        \n",
    "    # Build a vocabulary using the top 5000 words.\n",
    "    def build_vocabulary(self, vocabularySize = 5000):\n",
    "        # Count words, this will take a while.\n",
    "        word_counter = dict()\n",
    "        for annotation in tqdm(self.annotations, desc = 'Building vocabulary'):\n",
    "            words = word_tokenize(annotation['caption'].lower())\n",
    "            for word in words:\n",
    "                word_counter[word] = word_counter.get(word, 0) + 1\n",
    "                \n",
    "        # Sort the words and find keep only the most frequent words.\n",
    "        sorted_words = sorted(list(word_counter.items()), \n",
    "                              key = lambda x: -x[1])\n",
    "        most_frequent_words = [w for (w, c) in sorted_words[:vocabularySize]]\n",
    "        word2id = {w: (index + 1) for (index, w) in enumerate(most_frequent_words)}\n",
    "        \n",
    "        # Add a special characters for START, END sentence, and UNKnown words.\n",
    "        word2id['[END]'] = 0\n",
    "        word2id['[START]'] = len(word2id)\n",
    "        word2id['UNK'] = len(word2id)\n",
    "        id2word = {index: w for (w, index) in word2id.items()}\n",
    "        self.vocabulary = {'word2id': word2id, 'id2word': id2word}\n",
    "    \n",
    "    # Transform a caption into a list of word ids.\n",
    "    def caption2ids(self, caption):\n",
    "        word2id = self.vocabulary['word2id']\n",
    "        caption_ids = [word2id.get(w, word2id['UNK']) for w in word_tokenize(caption.lower())]\n",
    "        caption_ids.insert(0, word2id['[START]'])\n",
    "        caption_ids.append(word2id['[END]'])\n",
    "        return torch.LongTensor(caption_ids)\n",
    "    \n",
    "    # Transform a list of word ids into a caption.\n",
    "    def ids2caption(self, caption_ids):\n",
    "        id2word = self.vocabulary['id2word']\n",
    "        return string.join([id2word[w] for w in caption_ids], \" \")\n",
    "    \n",
    "    # Return imgId, and a random caption for that image.\n",
    "    def __getitem__(self, index):\n",
    "        annotation = self.annotations[index]\n",
    "        return annotation['image_id'], self.caption2ids(annotation['caption'])\n",
    "    \n",
    "    # Return the number of elements of the dataset.\n",
    "    def __len__(self):\n",
    "        return len(self.annotations)\n",
    "    \n",
    "# Let's test the data class.\n",
    "trainData = CocoCaptions('annotations/captions_train2014.json')\n",
    "print('Number of training examples: ', len(trainData))\n",
    "\n",
    "# It would be a mistake to build a vocabulary using the validation set so we reuse.\n",
    "valData = CocoCaptions('annotations/captions_val2014.json', vocabulary = trainData.vocabulary)\n",
    "print('Number of validation examples: ', len(valData))\n",
    "\n",
    "# Print a sample from the training data.\n",
    "imgId, caption = trainData[0]\n",
    "print('imgId', imgId)\n",
    "print('caption', caption.tolist())\n",
    "print('captionString', trainData.ids2caption(caption))"
   ]
  },
  {
   "cell_type": "markdown",
   "metadata": {},
   "source": [
    "## 2. Making a Data Loader that can Handle Sequences.\n",
    "\n",
    "Handling sequences is special when processing batches of inputs because each sequence can have a different length. This makes batching complicated, and different libraries have different ways of handling this which might be easier or harder to deal with. Here we are padding the sequences to the maximum sequence length in a given batch. Additionally pytorch has nice utility functions that require sorting the sequences in a batch from longest to shortest."
   ]
  },
  {
   "cell_type": "code",
   "execution_count": 3,
   "metadata": {},
   "outputs": [
    {
     "name": "stdout",
     "output_type": "stream",
     "text": [
      "('imgIds', (497616, 282899, 153671, 83454, 284964, 383884, 313727, 248320, 301409, 140776, 22044, 74099, 420308, 572206, 135344, 318190, 166903, 205126, 9039, 379736, 140180, 77649, 21364, 468771, 476344, 392871, 158334, 162767, 379593, 354519, 209097, 409884, 538270, 440819, 29014, 243734, 224304, 239483, 117019, 529350, 255683, 462429, 409834, 339324, 46981, 558348, 300966, 32074, 18395, 482446, 327970, 547052, 515019, 220529, 104309, 553299, 350670, 276626, 331214, 165907, 235959, 26319, 517005, 439689, 50945, 43560, 416372, 154502, 421744, 319293, 193333, 523985, 317431, 235132, 481760, 335107, 120077, 50552, 152015, 361038, 422050, 498449, 228018, 393097, 266168, 495567, 154209, 477162, 128286, 411969, 325095, 58343, 506901, 138982, 562510, 103361, 168903, 522285, 321546, 496819, 11244, 148361, 46149, 501377, 544884, 55578, 259346, 136757, 543494, 352313, 210570, 314530, 573456, 511345, 472776, 314646, 411700, 489203, 470975, 16362, 199963, 517087, 477861, 127699, 180280, 311938, 25172, 333984))\n",
      "('paddedSequences', torch.Size([20, 128]))\n",
      "('seqLengths', (20, 19, 17, 17, 17, 17, 16, 16, 16, 16, 16, 16, 16, 16, 16, 16, 16, 15, 15, 15, 15, 15, 15, 15, 15, 15, 15, 15, 15, 15, 15, 14, 14, 14, 14, 14, 14, 14, 14, 14, 14, 14, 14, 14, 14, 14, 14, 13, 13, 13, 13, 13, 13, 13, 13, 13, 13, 13, 13, 13, 13, 13, 13, 13, 13, 13, 13, 12, 12, 12, 12, 12, 12, 12, 12, 12, 12, 12, 12, 12, 12, 12, 12, 12, 12, 12, 12, 12, 12, 12, 12, 12, 11, 11, 11, 11, 11, 11, 11, 11, 11, 11, 11, 11, 11, 11, 11, 11, 11, 11, 11, 11, 11, 11, 11, 11, 11, 11, 11, 10, 10, 10, 10, 10, 10, 10, 10, 9))\n"
     ]
    }
   ],
   "source": [
    "# The batch builder will pack all sequences of different length into a single tensor by \n",
    "# padding shorter sequences with a padding token.\n",
    "def customBatchBuilder(samples):\n",
    "    imgIds, captionSeqs = zip(*samples)\n",
    "    \n",
    "    # Sort sequences based on length.\n",
    "    seqLengths = [len(seq) for seq in captionSeqs]\n",
    "    maxSeqLength = max(seqLengths)\n",
    "    sorted_list = sorted(zip(list(imgIds), captionSeqs, seqLengths), key = lambda x: -x[2])\n",
    "    imgIds, captionSeqs, seqLengths = zip(*sorted_list)\n",
    "    \n",
    "    # Create tensor with padded sequences.\n",
    "    paddedSeqs = torch.LongTensor(len(imgIds), maxSeqLength)\n",
    "    paddedSeqs.fill_(0)\n",
    "    for (i, seq) in enumerate(captionSeqs):\n",
    "        paddedSeqs[i, :len(seq)] = seq\n",
    "    return imgIds, paddedSeqs.t(), seqLengths\n",
    "\n",
    "# Data loaders in pytorch can use a custom batch builder, which we are using here.\n",
    "trainLoader = data.DataLoader(trainData, batch_size = 128, \n",
    "                              shuffle = True, num_workers = 0,\n",
    "                              collate_fn = customBatchBuilder, drop_last=True)\n",
    "valLoader = data.DataLoader(valData, batch_size = 128, \n",
    "                            shuffle = False, num_workers = 0,\n",
    "                            collate_fn = customBatchBuilder, drop_last=True)\n",
    "\n",
    "# Now let's try using the data loader.\n",
    "index, (imgIds, paddedSeqs, seqLengths) = next(enumerate(trainLoader))\n",
    "print('imgIds', imgIds)\n",
    "print('paddedSequences', paddedSeqs.size())\n",
    "print('seqLengths', seqLengths)"
   ]
  },
  {
   "cell_type": "markdown",
   "metadata": {},
   "source": [
    "\n",
    "\n",
    "## 3. Building our model using a Recurrent Neural Network.\n",
    "We will build a model that predicts the next word based on the previous word using a recurrent neural network. Additionally we will be using an Embedding layer which will assign a unique vector to each word. The network will be trained with a softmax + negative log likelihood loss. Similar to classification we will be trying to optimize for the correct word at each time-step."
   ]
  },
  {
   "cell_type": "code",
   "execution_count": 4,
   "metadata": {},
   "outputs": [
    {
     "name": "stdout",
     "output_type": "stream",
     "text": [
      "Here are input and output size tensor sizes:\n",
      "('inputs', torch.Size([34, 128]))\n",
      "('outputs', torch.Size([34, 128, 5003]))\n"
     ]
    }
   ],
   "source": [
    "# By now, we should know that pytorch has a functional implementation (as opposed to class version)\n",
    "# of many common layers, which is especially useful for layers that do not have any parameters.\n",
    "# e.g. relu, sigmoid, softmax, etc.\n",
    "import torch.nn.functional as F\n",
    "\n",
    "class TextGeneratorModel(nn.Module):\n",
    "    # The model has three layers: \n",
    "    #    1. An Embedding layer that turns a sequence of word ids into \n",
    "    #       a sequence of vectors of fixed size: embeddingSize.\n",
    "    #    2. An RNN layer that turns the sequence of embedding vectors into \n",
    "    #       a sequence of hiddenStates.\n",
    "    #    3. A classification layer that turns a sequence of hidden states into a \n",
    "    #       sequence of softmax outputs.\n",
    "    def __init__(self, vocabularySize):\n",
    "        super(TextGeneratorModel, self).__init__()\n",
    "        # See documentation for nn.Embedding here:\n",
    "        # http://pytorch.org/docs/master/nn.html#torch.nn.Embedding\n",
    "        self.embedder = nn.Embedding(vocabularySize, 300)\n",
    "        self.rnn = nn.RNN(300, 512, batch_first = False)\n",
    "        self.classifier = nn.Linear(512, vocabularySize)\n",
    "        self.vocabularySize = vocabularySize\n",
    "\n",
    "    # The forward pass makes the sequences go through the three layers defined above.\n",
    "    def forward(self, paddedSeqs, initialHiddenState):\n",
    "        batchSequenceLength = paddedSeqs.size(0)  # 0-dim is sequence-length-dim.\n",
    "        batchSize = paddedSeqs.size(1)  # 1-dim is batch dimension.\n",
    "        \n",
    "        # Transform word ids into an embedding vector.\n",
    "        embeddingVectors = self.embedder(paddedSeqs)\n",
    "        \n",
    "        # Pass the sequence of word embeddings to the RNN.\n",
    "        rnnOutput, finalHiddenState = self.rnn(embeddingVectors, initialHiddenState)\n",
    "        \n",
    "        # Collapse the batch and sequence-length dimensions in order to use nn.Linear.\n",
    "        flatSeqOutput = rnnOutput.view(-1, 512)\n",
    "        predictions = self.classifier(flatSeqOutput)\n",
    "        \n",
    "        # Expand back the batch and sequence-length dimensions and return. \n",
    "        return predictions.view(batchSequenceLength, batchSize, self.vocabularySize), \\\n",
    "               finalHiddenState\n",
    "\n",
    "# Let's test the model on some input batch.\n",
    "vocabularySize = len(trainData.vocabulary['word2id'])\n",
    "model = TextGeneratorModel(vocabularySize)\n",
    "\n",
    "# Create the initial hidden state for the RNN.\n",
    "index, (imgIds, paddedSeqs, seqLengths) = next(enumerate(trainLoader))\n",
    "initialHiddenState = Variable(torch.Tensor(1, paddedSeqs.size(1), 512).zero_())\n",
    "predictions, _ = model(torch.autograd.Variable(paddedSeqs), initialHiddenState)\n",
    "\n",
    "print('Here are input and output size tensor sizes:')\n",
    "# Inputs are seqLength x batchSize x 1 \n",
    "print('inputs', paddedSeqs.size()) # 10 input sequences.\n",
    "# Outputs are seqLength x batchSize x vocabularySize\n",
    "print('outputs', predictions.size()) # 10 output softmax predictions over our vocabularySize outputs."
   ]
  },
  {
   "cell_type": "markdown",
   "metadata": {},
   "source": [
    "## 3. Sampling a New Sentence from the Model.\n",
    "\n",
    "The code below uses the RNN network as an RNN cell where we only pass one single input word, and a hidden state vector. Then we keep passing the previously predicted word, and previously predicted hidden state to predict the next word. Since the given model is not trained, it will just output a random sequence of words for now. Ideally, the trained model should also learn when to [END] a sentence."
   ]
  },
  {
   "cell_type": "code",
   "execution_count": 17,
   "metadata": {},
   "outputs": [
    {
     "name": "stdout",
     "output_type": "stream",
     "text": [
      "[START] the cages intricate paints contains ford keeps late distant pinned smiles pumpkins hawaiian carrier boulevard shines unoccupied magnets makes gloves tone curtained flavors changing pizzas arrows swan support showroom member knee chews stocked cell lipstick cable cupboard dash barriers goggles currently drops odd minutes exiting outdoors owl plans waits power lab hugs hummingbird drive blooming consisting rocks magnifying hangs series hovering robot bar scoop sprawled quiche controlled curiously wheat medieval steak rared airstrip bbq sweeping launching share student historic coaches indoors faces rural crafts fried establishment remodeling double biplane banquet driven upscale tethered carriages past tricycle divider surrounded pulling couch probably tracks heater notebooks chasing bales buses ferry tops stopping spray uniformed bend hear surf fixes atv fly video designs carts homemade t-shirt veggies converse s lounge oncoming decorate throws officer making decker boulder japanese heavy bending foliage cord sparse service stack lingerie cheek wrought patrons await seagull billboard mote interesting sided peels car posing sprinkle baker beauty stools tiger tape carton flavored pile rocking warming cobblestone via racer marine rings atop poses highway bark centerpiece computers fixture half-pipe guiding toilette facing outdoor meet wagons interior filling flowing altered much auditorium teen appetizing markings nightstand hawaiian bundles snack checkered neatly my bagel train\n"
     ]
    }
   ],
   "source": [
    "def sample_sentence(model, use_cuda = False):\n",
    "    counter = 0\n",
    "    limit = 200\n",
    "    words = list()\n",
    "\n",
    "    # Setup initial input state, and input word (we use \"the\").\n",
    "    previousWord = torch.LongTensor(1, 1).fill_(trainData.vocabulary['word2id']['the'])\n",
    "    previousHiddenState = torch.autograd.Variable(torch.Tensor(1, 1, 512).zero_())\n",
    "    if use_cuda: \n",
    "        previousHiddenState = previousHiddenState.cuda()\n",
    "\n",
    "    while True:\n",
    "        # Predict the next word based on the previous hidden state and previous word.\n",
    "        inputWord = torch.autograd.Variable(previousWord)\n",
    "        if use_cuda: inputWord = inputWord.cuda()\n",
    "        predictions, hiddenState = model(inputWord, previousHiddenState)\n",
    "        nextWordId = np.random.multinomial(1, F.softmax(predictions.squeeze()).data.cpu().numpy(), 1).argmax()\n",
    "        words.append(trainData.vocabulary['id2word'][nextWordId])\n",
    "        # Setup the inputs for the next round.\n",
    "        previousWord.fill_(nextWordId)\n",
    "        previousHiddenState = hiddenState\n",
    "\n",
    "        # Keep adding words until the [END] token is generated.\n",
    "        if nextWordId == trainData.vocabulary['word2id']['[END]'] or counter > limit:\n",
    "            break\n",
    "        counter += 1\n",
    "    \n",
    "    words.insert(0, 'the')\n",
    "    words.insert(0, '[START]')\n",
    "    return string.join(words, \" \")\n",
    "\n",
    "print(sample_sentence(model, use_cuda = False))"
   ]
  },
  {
   "cell_type": "code",
   "execution_count": 24,
   "metadata": {},
   "outputs": [
    {
     "name": "stdout",
     "output_type": "stream",
     "text": [
      "[START] the discussing wool macaroni snowboard mercedes office hiking featuring warm rolled blouse next pad wheeler walled sofa portable mantle carpeted transit elevator under pavilion sculpture they paintings fixtures raising vests extending quilt gum friend connecting chatting buying lie grizzly pug electronics umpire live architecture spewing gliding extremely hearty featured snuggling customers squat spewing para heavily bit dishes individual tiered texting landed 1 kiteboard motorcycle boulders backs shirt mickey canvas arched cafe southwest brushes hurdle bun heads yet huge political heads herds attempt mouths washed ride puppy summer skateboarders construction buried runs little party suv windows floating cracked electrical remotes late bends use stripe mass misses difficult upon feature parking dollar or rounding outside autumn coral asparagus nighttime woods pantry focused seeds sport mitt wooden stationed cones flush filtered roller . seaweed kept bra bare propellor drums burger from slender fleet lane snowboarding facility pattern coaster learning broth each filed outfits exposure damage checkered legs lovely daughter got racing melon hood cockpit boarding cyclist aqua wallet labeled plains throw overlooks neon parade pillows tortilla rowboat reflections video catchers them sliding appetizer license burrito blonde fork bean peppers crow antique rubbing holder engines [END]\n"
     ]
    }
   ],
   "source": [
    "def sample_lstm_sentence(model, use_cuda = False):\n",
    "    counter = 0\n",
    "    limit = 200\n",
    "    words = list()\n",
    "\n",
    "    # Setup initial input state, and input word (we use \"the\").\n",
    "    previousWord = torch.LongTensor(1, 1).fill_(trainData.vocabulary['word2id']['the'])\n",
    "    previousHiddenState = torch.autograd.Variable(torch.Tensor(1, 1, 512).zero_())\n",
    "    previousCellState = previousHiddenState\n",
    "    if use_cuda: \n",
    "        previousHiddenState = previousHiddenState.cuda()\n",
    "        previousCellState = previousCellState.cuda()\n",
    "\n",
    "    while True:\n",
    "        # Predict the next word based on the previous hidden state and previous word.\n",
    "        inputWord = torch.autograd.Variable(previousWord)\n",
    "        if use_cuda: inputWord = inputWord.cuda()\n",
    "        predictions, (hiddenState,cellState) = model(inputWord, (previousHiddenState,previousCellState))\n",
    "        nextWordId = np.random.multinomial(1, F.softmax(predictions.squeeze()).data.cpu().numpy(), 1).argmax()\n",
    "        words.append(trainData.vocabulary['id2word'][nextWordId])\n",
    "        # Setup the inputs for the next round.\n",
    "        previousWord.fill_(nextWordId)\n",
    "        previousHiddenState = hiddenState\n",
    "        previousCellState = cellState\n",
    "        # Keep adding words until the [END] token is generated.\n",
    "        if nextWordId == trainData.vocabulary['word2id']['[END]'] or counter > limit:\n",
    "            break\n",
    "        counter += 1\n",
    "    \n",
    "    words.insert(0, 'the')\n",
    "    words.insert(0, '[START]')\n",
    "    return string.join(words, \" \")\n",
    "\n",
    "print(sample_sentence(model, use_cuda = False))"
   ]
  },
  {
   "cell_type": "markdown",
   "metadata": {},
   "source": [
    "## 3. Training the Model\n",
    "\n",
    "Now that data is pre-processed, we can try training the model. An important part is to define our target labels or ground-truth labels. In this text generation model, we want to predict the next word based on the previous word. So we need to provide as the target a shifted version of the input sequence. The code below looks a lot like the code used for training previous models with only small modifications."
   ]
  },
  {
   "cell_type": "code",
   "execution_count": 6,
   "metadata": {
    "collapsed": true
   },
   "outputs": [],
   "source": [
    "from tqdm import tqdm as tqdm\n",
    "\n",
    "def train_rnn_model(model, criterion, optimizer, scheduler, trainLoader, valLoader, n_epochs = 10, use_gpu = False):\n",
    "    if use_gpu:\n",
    "        model = model.cuda()\n",
    "        criterion = criterion.cuda()\n",
    "        \n",
    "    # Training loop.\n",
    "    for epoch in range(0, n_epochs):\n",
    "        correct = 0.0\n",
    "        cum_loss = 0.0\n",
    "        counter = 0.0\n",
    "\n",
    "        scheduler.step()\n",
    "\n",
    "        # Make a pass over the training data.\n",
    "        t = tqdm(trainLoader, desc = 'Training epoch %d' % epoch)\n",
    "        model.train()  # This is important to call before training!\n",
    "        _, (_, paddedSeqs, _) = next(enumerate(t))\n",
    "        hiddenState = Variable(torch.Tensor(1, paddedSeqs.size(1), 512).zero_())\n",
    "        for (i, (_, paddedSeqs, _)) in enumerate(t):          \n",
    "            # Wrap inputs, and targets into torch.autograd.Variable types.\n",
    "            inputs = Variable(paddedSeqs)\n",
    "            target_idx = torch.cat((paddedSeqs[slice(1,inputs.size(1))],torch.LongTensor(1,inputs.size(1)).fill_(0)),0)\n",
    "            targets = Variable((target_idx.view(1,-1)).squeeze(0))\n",
    "            \n",
    "            if use_gpu:\n",
    "                hiddenState = hiddenState.cuda()\n",
    "                inputs = inputs.cuda()\n",
    "                targets = targets.cuda()\n",
    "\n",
    "            # Forward pass:\n",
    "            hiddenState = Variable(hiddenState.data)\n",
    "            predictions, hiddenState = model(inputs, hiddenState)\n",
    "            outputs = predictions.view(-1,5003) # 5003 = num words \n",
    "            loss = criterion(outputs, targets)\n",
    "\n",
    "            # Backward pass:\n",
    "            optimizer.zero_grad()\n",
    "            loss.backward() \n",
    "\n",
    "            # Weight and bias updates.\n",
    "            optimizer.step()\n",
    "            \n",
    "            # logging information.\n",
    "            cum_loss += loss.data[0]\n",
    "            max_scores, max_labels = outputs.data.max(1)\n",
    "            correct += (max_labels == targets.data).sum()\n",
    "            counter += inputs.size(0) * inputs.size(1)\n",
    "            t.set_postfix(loss = cum_loss / (1 + i), accuracy = 100 * correct / counter)\n",
    "\n",
    "        # Make a pass over the validation data.\n",
    "        correct = 0.0\n",
    "        cum_loss = 0.0\n",
    "        counter = 0.0\n",
    "        t = tqdm(valLoader, desc = 'Validation epoch %d' % epoch)\n",
    "        model.eval()\n",
    "        _, (_, paddedSeqs, _) = next(enumerate(t))\n",
    "        vhiddenState = Variable(torch.Tensor(1, paddedSeqs.size(1), 512).zero_())\n",
    "        for (i, (_, paddedSeqs, _)) in enumerate(t):\n",
    "            # Wrap inputs, and targets into torch.autograd.Variable types.\n",
    "            inputs = Variable(paddedSeqs)\n",
    "            target_idx = torch.cat((paddedSeqs[slice(1,inputs.size(1))],torch.LongTensor(1,inputs.size(1)).fill_(0)),0)\n",
    "            targets = Variable((target_idx.view(1,-1)).squeeze(0))\n",
    "            \n",
    "            if use_gpu:\n",
    "                vhiddenState = vhiddenState.cuda()\n",
    "                inputs = inputs.cuda()\n",
    "                targets = targets.cuda()\n",
    "\n",
    "            # Forward pass:\n",
    "            vhiddenState = Variable(vhiddenState.data)\n",
    "            predictions, vhiddenState = model(inputs, vhiddenState)\n",
    "            outputs = predictions.view(-1,5003) \n",
    "            loss = criterion(outputs, targets)\n",
    "\n",
    "            # logging information.\n",
    "            cum_loss += loss.data[0]\n",
    "            max_scores, max_labels = outputs.data.max(1)\n",
    "            correct += (max_labels == targets.data).sum()\n",
    "            counter += inputs.size(0) * inputs.size(1)\n",
    "            t.set_postfix(loss = cum_loss / (1 + i), accuracy = 100 * correct / counter)\n"
   ]
  },
  {
   "cell_type": "code",
   "execution_count": 7,
   "metadata": {
    "collapsed": true
   },
   "outputs": [],
   "source": [
    "def train_lstm_model(model, criterion, optimizer, scheduler, trainLoader, valLoader, n_epochs = 10, use_gpu = False):\n",
    "    if use_gpu:\n",
    "        model = model.cuda()\n",
    "        criterion = criterion.cuda()\n",
    "        \n",
    "    # Training loop.\n",
    "    for epoch in range(0, n_epochs):\n",
    "        correct = 0.0\n",
    "        cum_loss = 0.0\n",
    "        counter = 0.0\n",
    "\n",
    "        scheduler.step()\n",
    "\n",
    "        # Make a pass over the training data.\n",
    "        t = tqdm(trainLoader, desc = 'Training epoch %d' % epoch)\n",
    "        model.train()  # This is important to call before training!\n",
    "        _, (_, paddedSeqs, _) = next(enumerate(t))\n",
    "        hiddenState = Variable(torch.Tensor(1, paddedSeqs.size(1), 512).zero_())\n",
    "        cellState = hiddenState\n",
    "        for (i, (_, paddedSeqs, _)) in enumerate(t):          \n",
    "            # Wrap inputs, and targets into torch.autograd.Variable types.\n",
    "            inputs = Variable(paddedSeqs)\n",
    "            target_idx = torch.cat((paddedSeqs[slice(1,inputs.size(1))],torch.LongTensor(1,inputs.size(1)).fill_(0)),0)\n",
    "            targets = Variable((target_idx.view(1,-1)).squeeze(0))\n",
    "            \n",
    "            if use_gpu:\n",
    "                hiddenState = hiddenState.cuda()\n",
    "                cellState = cellState.cuda()\n",
    "                inputs = inputs.cuda()\n",
    "                targets = targets.cuda()\n",
    "\n",
    "            # Forward pass:\n",
    "            hiddenState = Variable(hiddenState.data)\n",
    "            cellState = Variable(cellState.data)\n",
    "            predictions, (hiddenState, cellState) = model(inputs, (hiddenState,cellState))\n",
    "            outputs = predictions.view(-1,5003) # 5003 = num words \n",
    "            loss = criterion(outputs, targets)\n",
    "\n",
    "            # Backward pass:\n",
    "            optimizer.zero_grad()\n",
    "            loss.backward() \n",
    "\n",
    "            # Weight and bias updates.\n",
    "            optimizer.step()\n",
    "            \n",
    "            # logging information.\n",
    "            cum_loss += loss.data[0]\n",
    "            max_scores, max_labels = outputs.data.max(1)\n",
    "            correct += (max_labels == targets.data).sum()\n",
    "            counter += inputs.size(0) * inputs.size(1)\n",
    "            t.set_postfix(loss = cum_loss / (1 + i), accuracy = 100 * correct / counter)\n",
    "\n",
    "        # Make a pass over the validation data.\n",
    "        correct = 0.0\n",
    "        cum_loss = 0.0\n",
    "        counter = 0.0\n",
    "        t = tqdm(valLoader, desc = 'Validation epoch %d' % epoch)\n",
    "        model.eval()\n",
    "        _, (_, paddedSeqs, _) = next(enumerate(t))\n",
    "        hiddenState = Variable(torch.Tensor(1, paddedSeqs.size(1), 512).zero_())\n",
    "        cellState = hiddenState\n",
    "        for (i, (_, paddedSeqs, _)) in enumerate(t):\n",
    "            # Wrap inputs, and targets into torch.autograd.Variable types.\n",
    "            inputs = Variable(paddedSeqs)\n",
    "            target_idx = torch.cat((paddedSeqs[slice(1,inputs.size(1))],torch.LongTensor(1,inputs.size(1)).fill_(0)),0)\n",
    "            targets = Variable((target_idx.view(1,-1)).squeeze(0))\n",
    "            \n",
    "            if use_gpu:\n",
    "                hiddenState = hiddenState.cuda()\n",
    "                cellState = cellState.cuda()\n",
    "                inputs = inputs.cuda()\n",
    "                targets = targets.cuda()\n",
    "\n",
    "            # Forward pass:\n",
    "            hiddenState = Variable(hiddenState.data)\n",
    "            cellState = Variable(cellState.data)\n",
    "            predictions, (hiddenState, cellState) = model(inputs, (hiddenState,cellState))\n",
    "            outputs = predictions.view(-1,5003) # 5003 = num words \n",
    "            loss = criterion(outputs, targets)\n",
    "\n",
    "            # logging information.\n",
    "            cum_loss += loss.data[0]\n",
    "            max_scores, max_labels = outputs.data.max(1)\n",
    "            correct += (max_labels == targets.data).sum()\n",
    "            counter += inputs.size(0) * inputs.size(1)\n",
    "            t.set_postfix(loss = cum_loss / (1 + i), accuracy = 100 * correct / counter)\n",
    "\n"
   ]
  },
  {
   "cell_type": "markdown",
   "metadata": {},
   "source": [
    "Now to the actual training call, notice how unlike previous experiments we are using here RMSprop which is a different type of optimizer that is often preferred for recurrent neural networks, although others such as SGD, and ADAM will also work. Additionally we are using nn.NLLLoss for the loss function, which is equivalent to the nn.CrossEntropyLoss function used before. The only difference is that nn.CrossEntropyLoss does the log_softmax operation for us, however in our implementation, we already applied log_softmax to the outputs of the model."
   ]
  },
  {
   "cell_type": "code",
   "execution_count": 36,
   "metadata": {
    "scrolled": false
   },
   "outputs": [
    {
     "name": "stderr",
     "output_type": "stream",
     "text": [
      "Training epoch 0: 100%|██████████| 3235/3235 [06:07<00:00,  8.89it/s, accuracy=70.9, loss=1.67]\n",
      "Validation epoch 0: 100%|██████████| 1583/1583 [01:38<00:00, 15.99it/s, accuracy=71.8, loss=1.53]\n",
      "Training epoch 1: 100%|██████████| 3235/3235 [06:06<00:00,  8.82it/s, accuracy=73.1, loss=1.43]\n",
      "Validation epoch 1: 100%|██████████| 1583/1583 [01:37<00:00, 13.80it/s, accuracy=72.6, loss=1.44]\n",
      "Training epoch 2: 100%|██████████| 3235/3235 [06:10<00:00,  8.27it/s, accuracy=73.8, loss=1.36]\n",
      "Validation epoch 2: 100%|██████████| 1583/1583 [01:39<00:00, 15.98it/s, accuracy=72.9, loss=1.41]\n",
      "Training epoch 3: 100%|██████████| 3235/3235 [06:07<00:00,  8.38it/s, accuracy=74, loss=1.33]  \n",
      "Validation epoch 3: 100%|██████████| 1583/1583 [01:39<00:00, 13.72it/s, accuracy=73.2, loss=1.39]\n",
      "Training epoch 4: 100%|██████████| 3235/3235 [06:07<00:00,  7.50it/s, accuracy=74.4, loss=1.3] \n",
      "Validation epoch 4: 100%|██████████| 1583/1583 [01:38<00:00, 16.03it/s, accuracy=73.4, loss=1.37]\n",
      "Training epoch 5: 100%|██████████| 3235/3235 [06:07<00:00,  8.81it/s, accuracy=74.6, loss=1.29]\n",
      "Validation epoch 5: 100%|██████████| 1583/1583 [01:39<00:00, 15.96it/s, accuracy=73.4, loss=1.37]\n",
      "Training epoch 6: 100%|██████████| 3235/3235 [06:09<00:00,  8.23it/s, accuracy=74.6, loss=1.29]\n",
      "Validation epoch 6: 100%|██████████| 1583/1583 [01:37<00:00, 16.18it/s, accuracy=73.4, loss=1.37]\n",
      "Training epoch 7: 100%|██████████| 3235/3235 [06:06<00:00,  8.94it/s, accuracy=74.6, loss=1.29]\n",
      "Validation epoch 7: 100%|██████████| 1583/1583 [01:37<00:00, 16.24it/s, accuracy=73.4, loss=1.37]\n",
      "Training epoch 8: 100%|██████████| 3235/3235 [06:06<00:00,  7.50it/s, accuracy=74.6, loss=1.29]\n",
      "Validation epoch 8: 100%|██████████| 1583/1583 [01:38<00:00, 16.13it/s, accuracy=73.4, loss=1.37]\n",
      "Training epoch 9: 100%|██████████| 3235/3235 [06:07<00:00,  8.03it/s, accuracy=74.6, loss=1.28]\n",
      "Validation epoch 9: 100%|██████████| 1583/1583 [01:39<00:00, 15.86it/s, accuracy=73.4, loss=1.37]\n"
     ]
    }
   ],
   "source": [
    "vocabularySize = len(trainData.vocabulary['word2id'])\n",
    "model = TextGeneratorModel(vocabularySize)\n",
    "criterion = nn.CrossEntropyLoss()\n",
    "optimizer = torch.optim.Adamax(model.parameters(), lr = 0.001)\n",
    "scheduler = lr_scheduler.MultiStepLR(optimizer,milestones=[4,7,9],gamma=0.1);\n",
    "\n",
    "# Train the previously defined model.\n",
    "train_rnn_model(model, criterion, optimizer, scheduler, trainLoader, valLoader, n_epochs = 10, use_gpu = True)"
   ]
  },
  {
   "cell_type": "markdown",
   "metadata": {},
   "source": [
    "## Lab Questions (10pts)\n",
    "<span><b>1.</b></span> (2pts) What is the number of parameters of the TextGeneratorModel? "
   ]
  },
  {
   "cell_type": "markdown",
   "metadata": {
    "collapsed": true
   },
   "source": [
    "Vocabulary size = 5003 <br>\n",
    "Hidden Layer size = 512 <br>\n",
    "Input size = 300 <br>\n",
    "Output size = 512<br>\n",
    "\n",
    "** Parameters ** <br>\n",
    "_Note:  adding bias for input/hidden and hidden/hidden_<br>\n",
    "embeddings = 5003 x 300 = 1,500,900<br>\n",
    "input w.r.t. hidden = 300 x 512 + 512 = 154,112<br>\n",
    "hidden w.r.t. hidden = 512 x 512 + 512 = 262,656<br>\n",
    "linear layer = 512 x 5003 + 5003 = 2,566,539<br>\n",
    "\n",
    "Total parameters:  ** 4,484,207 **"
   ]
  },
  {
   "cell_type": "markdown",
   "metadata": {},
   "source": [
    "<span><b>2.</b></span> (4pts) Provide an implementation for the function train_rnn_model from section 3, this will be similar to the train_model function used in the previous lab. Then train the model and report a few sentences generated by your model. Use the following figure as reference to make sure you are using the right inputs and targets to train the model. The loss function between predictions and targets should be nn.CrossEntropyLoss(), so you might need to collapse the batch and sequence-length dimensions before passing them to the loss function.\n",
    "\n",
    "<img src=\"rnn.png\" width=\"80%\"> "
   ]
  },
  {
   "cell_type": "markdown",
   "metadata": {},
   "source": [
    "#### (See above for implementation and training output)"
   ]
  },
  {
   "cell_type": "code",
   "execution_count": 90,
   "metadata": {},
   "outputs": [
    {
     "name": "stdout",
     "output_type": "stream",
     "text": [
      "[START] the usa pitcher took something to bat at the ball . [END]\n",
      "[START] the thumb looking sad is clean and UNK . [END]\n",
      "[START] the television with a window sill in the background . [END]\n",
      "[START] the opponent running during the game has the ball . [END]\n",
      "[START] the best thick beverage smile are parked along with benches . [END]\n"
     ]
    }
   ],
   "source": [
    "model.eval()\n",
    "\n",
    "# example sentences\n",
    "cuda = True\n",
    "print(sample_sentence(model, use_cuda = cuda))\n",
    "print(sample_sentence(model, use_cuda = cuda))\n",
    "print(sample_sentence(model, use_cuda = cuda))\n",
    "print(sample_sentence(model, use_cuda = cuda))\n",
    "print(sample_sentence(model, use_cuda = cuda))"
   ]
  },
  {
   "cell_type": "markdown",
   "metadata": {},
   "source": [
    "<span><b>3. </b></span> (4pts) Create an ImageCaptioningModel class here that predicts a sentence given an input image. This should be an implementation of the model in this paper https://arxiv.org/pdf/1411.4555.pdf (See figure 3 in the paper). This model is very similar to the one implemented in this lab except that the first RNN cell gets the output of a CNN as its input. I'm also illustrating it below using a figure similar to the one in the previous question. For the CNN use Resnet-18. Note: You do not need to train this model, only define it. Feel free to start from the code for the TextGeneratorModel. <img src=\"im2text.png\" width=\"80%\">"
   ]
  },
  {
   "cell_type": "markdown",
   "metadata": {},
   "source": [
    "#### Image Captioning Class"
   ]
  },
  {
   "cell_type": "code",
   "execution_count": 10,
   "metadata": {},
   "outputs": [
    {
     "name": "stdout",
     "output_type": "stream",
     "text": [
      "Here are input and output size tensor sizes:\n",
      "('inputs', torch.Size([20, 128]))\n",
      "('outputs', torch.Size([21, 128, 5003]))\n"
     ]
    }
   ],
   "source": [
    "class ImageCaptioningModel(nn.Module):\n",
    "    def __init__(self, vocabularySize):\n",
    "        super(ImageCaptioningModel, self).__init__()\n",
    "        self.embedder = nn.Embedding(vocabularySize, 300)\n",
    "        self.rnn = nn.RNN(300, 512, batch_first = False)\n",
    "        self.classifier = nn.Linear(512, vocabularySize)\n",
    "        self.vocabularySize = vocabularySize\n",
    "        # CNN configuration\n",
    "        self.cnn = resnet18(pretrained=True)\n",
    "        for p in self.cnn.parameters():  # freeze weights; only feature extractor\n",
    "            p.requires_grad = False\n",
    "        self.cnn.fc = nn.Linear(512, 300) # need output size to match embedding_dim (is trainable)\n",
    "        self.cnn.eval() # no dropout\n",
    "\n",
    "    def forward(self, imgs, captions, initialHiddenState):\n",
    "        batchSequenceLength = captions.size(0)  # 0-dim is sequence-length-dim.\n",
    "        batchSize = captions.size(1)  # 1-dim is batch dimension.\n",
    "        \n",
    "        # the CNN features are now the first input to caption prediction, so we \n",
    "        # need to increase the sequence length (caption length) by one element\n",
    "        outBatchSequenceLength = batchSequenceLength + 1\n",
    "        \n",
    "        # Transform word ids into an embedding vector (captions)\n",
    "        embeddingVectors = self.embedder(captions)\n",
    "                \n",
    "        # Get image information and prepend to RNN input.\n",
    "        # Basically, we use the CNN to extract image features and then\n",
    "        # we provide the features as the \"first\" inputs to the RNN.\n",
    "        cnnOutput = self.cnn(imgs).unsqueeze(0) # produces output of size 1x128x300\n",
    "        embeddingVectors = torch.cat((cnnOutput,embeddingVectors),0) # prepend image features\n",
    "                \n",
    "        # Pass the embeddings to the RNN.\n",
    "        rnnOutput, finalHiddenState = self.rnn(embeddingVectors, initialHiddenState)\n",
    "        \n",
    "        # Collapse the batch and sequence-length dimensions in order to use nn.Linear.\n",
    "        flatSeqOutput = rnnOutput.view(-1, 512)\n",
    "        predictions = self.classifier(flatSeqOutput)\n",
    "        \n",
    "        # Expand back the batch and sequence-length dimensions and return. \n",
    "        return predictions.view(outBatchSequenceLength, batchSize, self.vocabularySize), \\\n",
    "               finalHiddenState\n",
    "\n",
    "        \n",
    "# FOR TESTING        \n",
    "# batch of 128 fake images (to accompany a batch of 128 captions)\n",
    "# in a real implementation, this would be loaded from a dataloader\n",
    "images = torch.FloatTensor(128,3,224,224)\n",
    "\n",
    "# Let's test the model on some input batch.\n",
    "vocabularySize = len(trainData.vocabulary['word2id'])\n",
    "model = ImageCaptioningModel(vocabularySize)\n",
    "\n",
    "# Create the initial hidden state for the RNN.\n",
    "index, (imgIds, captions, seqLengths) = next(enumerate(trainLoader))\n",
    "initialHiddenState = Variable(torch.Tensor(1, captions.size(1), 512).zero_())\n",
    "predictions, _ = model(Variable(images), Variable(captions), initialHiddenState)\n",
    "\n",
    "print('Here are input and output size tensor sizes:')\n",
    "# Inputs are seqLength x batchSize x 1 \n",
    "print('inputs', captions.size())\n",
    "# Outputs are seqLength x batchSize x vocabularySize\n",
    "print('outputs', predictions.size()) "
   ]
  },
  {
   "cell_type": "markdown",
   "metadata": {},
   "source": [
    "### Optional Questions (8pts)"
   ]
  },
  {
   "cell_type": "markdown",
   "metadata": {},
   "source": [
    "<span><b>1. </b></span> (1pts) What is the number of parameters of the ImageCaptioningModel from Q3?"
   ]
  },
  {
   "cell_type": "markdown",
   "metadata": {
    "collapsed": true
   },
   "source": [
    "Vocabulary size = 5003 <br>\n",
    "Hidden Layer size = 512 <br>\n",
    "Input size = 300 <br>\n",
    "Output size = 512<br>\n",
    "\n",
    "** Parameters ** <br>\n",
    "_Note:  adding bias for input/hidden and hidden/hidden_<br>\n",
    "CNN FC Layer = 512 x 300 + 300 = 153,900<br>\n",
    "embeddings = 5003 x 300 + 300 = 1,501,200<br>\n",
    "input w.r.t. hidden = 300 x 512 + 512 = 154,112<br>\n",
    "hidden w.r.t. hidden = 512 x 512 + 512 = 262,656<br>\n",
    "linear layer = 512 x 5003 + 5003 = 2,566,539<br>\n",
    "\n",
    "Total parameters:  ** 4,638,407 **"
   ]
  },
  {
   "cell_type": "markdown",
   "metadata": {},
   "source": [
    "<span><b>2. </b></span> (3pts) Modify the TextGeneratorModel to use an LSTM instead, and retrain the model. Report results using this model."
   ]
  },
  {
   "cell_type": "markdown",
   "metadata": {},
   "source": [
    "#### LSTM Model Definition"
   ]
  },
  {
   "cell_type": "code",
   "execution_count": 11,
   "metadata": {},
   "outputs": [
    {
     "name": "stdout",
     "output_type": "stream",
     "text": [
      "Here are input and output size tensor sizes:\n",
      "('inputs', torch.Size([25, 128]))\n",
      "('outputs', torch.Size([25, 128, 5003]))\n"
     ]
    }
   ],
   "source": [
    "class LSTMTextGeneratorModel(nn.Module):\n",
    "    def __init__(self, vocabularySize):\n",
    "        super(LSTMTextGeneratorModel, self).__init__()\n",
    "        # See documentation for nn.Embedding here:\n",
    "        # http://pytorch.org/docs/master/nn.html#torch.nn.Embedding\n",
    "        self.embedder = nn.Embedding(vocabularySize, 300)\n",
    "        self.lstm = nn.LSTM(300, 512, batch_first = False)\n",
    "        self.classifier = nn.Linear(512, vocabularySize)\n",
    "        self.vocabularySize = vocabularySize\n",
    "\n",
    "    # The forward pass makes the sequences go through the three layers defined above.\n",
    "    def forward(self, paddedSeqs, initialState):\n",
    "        batchSequenceLength = paddedSeqs.size(0)  # 0-dim is sequence-length-dim.\n",
    "        batchSize = paddedSeqs.size(1)  # 1-dim is batch dimension.\n",
    "        \n",
    "        # Transform word ids into an embedding vector.\n",
    "        embeddingVectors = self.embedder(paddedSeqs)\n",
    "        \n",
    "        # Pass the sequence of word embeddings to the RNN.\n",
    "        rnnOutput, finalState = self.lstm(embeddingVectors, initialState)\n",
    "        \n",
    "        # Collapse the batch and sequence-length dimensions in order to use nn.Linear.\n",
    "        flatSeqOutput = rnnOutput.view(-1, 512)\n",
    "        predictions = self.classifier(flatSeqOutput)\n",
    "        \n",
    "        # Expand back the batch and sequence-length dimensions and return. \n",
    "        return predictions.view(batchSequenceLength, batchSize, self.vocabularySize), \\\n",
    "               finalState\n",
    "\n",
    "# Let's test the model on some input batch.\n",
    "vocabularySize = len(trainData.vocabulary['word2id'])\n",
    "model = TextGeneratorModel(vocabularySize)\n",
    "\n",
    "# Create the initial hidden state for the RNN.\n",
    "index, (imgIds, paddedSeqs, seqLengths) = next(enumerate(trainLoader))\n",
    "initialHiddenState = Variable(torch.Tensor(1, paddedSeqs.size(1), 512).zero_())\n",
    "initialCellState = initialHiddenState\n",
    "initialState = (initialHiddenState, initialCellState)\n",
    "predictions, _ = model(torch.autograd.Variable(paddedSeqs), initialState)\n",
    "\n",
    "print('Here are input and output size tensor sizes:')\n",
    "# Inputs are seqLength x batchSize x 1 \n",
    "print('inputs', paddedSeqs.size()) # 10 input sequences.\n",
    "# Outputs are seqLength x batchSize x vocabularySize\n",
    "print('outputs', predictions.size()) # 10 output softmax predictions over our vocabularySize outputs."
   ]
  },
  {
   "cell_type": "markdown",
   "metadata": {},
   "source": [
    "#### Train the LSTM Model"
   ]
  },
  {
   "cell_type": "code",
   "execution_count": 12,
   "metadata": {},
   "outputs": [
    {
     "name": "stderr",
     "output_type": "stream",
     "text": [
      "Training epoch 0: 100%|██████████| 3235/3235 [07:33<00:00,  8.12it/s, accuracy=72.9, loss=1.46]\n",
      "Validation epoch 0: 100%|██████████| 1583/1583 [01:50<00:00, 14.30it/s, accuracy=73.2, loss=1.38]\n",
      "Training epoch 1: 100%|██████████| 3235/3235 [07:33<00:00,  7.68it/s, accuracy=74.3, loss=1.3]\n",
      "Validation epoch 1: 100%|██████████| 1583/1583 [01:50<00:00, 14.27it/s, accuracy=73.5, loss=1.35]\n",
      "Training epoch 2: 100%|██████████| 3235/3235 [07:32<00:00,  7.55it/s, accuracy=74.8, loss=1.25]\n",
      "Validation epoch 2: 100%|██████████| 1583/1583 [01:50<00:00, 14.35it/s, accuracy=73.7, loss=1.33]\n",
      "Training epoch 3: 100%|██████████| 3235/3235 [07:31<00:00,  6.83it/s, accuracy=75, loss=1.23]  \n",
      "Validation epoch 3: 100%|██████████| 1583/1583 [01:50<00:00, 14.28it/s, accuracy=73.7, loss=1.34]\n",
      "Training epoch 4: 100%|██████████| 3235/3235 [07:32<00:00,  7.49it/s, accuracy=75.8, loss=1.17]\n",
      "Validation epoch 4: 100%|██████████| 1583/1583 [01:50<00:00, 14.29it/s, accuracy=74.2, loss=1.31]\n",
      "Training epoch 5: 100%|██████████| 3235/3235 [07:31<00:00,  6.33it/s, accuracy=76.1, loss=1.14]\n",
      "Validation epoch 5: 100%|██████████| 1583/1583 [01:50<00:00, 14.27it/s, accuracy=74.2, loss=1.3] \n",
      "Training epoch 6: 100%|██████████| 3235/3235 [07:31<00:00,  7.34it/s, accuracy=76.3, loss=1.13]\n",
      "Validation epoch 6: 100%|██████████| 1583/1583 [01:50<00:00, 14.28it/s, accuracy=74.3, loss=1.3] \n",
      "Training epoch 7: 100%|██████████| 3235/3235 [07:32<00:00,  7.14it/s, accuracy=76.5, loss=1.12]\n",
      "Validation epoch 7: 100%|██████████| 1583/1583 [01:50<00:00, 14.28it/s, accuracy=74.3, loss=1.3] \n",
      "Training epoch 8: 100%|██████████| 3235/3235 [07:32<00:00,  6.71it/s, accuracy=76.6, loss=1.12]\n",
      "Validation epoch 8: 100%|██████████| 1583/1583 [01:51<00:00, 11.97it/s, accuracy=74.3, loss=1.3] \n",
      "Training epoch 9: 100%|██████████| 3235/3235 [07:31<00:00,  6.60it/s, accuracy=76.6, loss=1.11]\n",
      "Validation epoch 9: 100%|██████████| 1583/1583 [01:50<00:00, 14.31it/s, accuracy=74.3, loss=1.3] \n"
     ]
    }
   ],
   "source": [
    "vocabularySize = len(trainData.vocabulary['word2id'])\n",
    "lstm_model = LSTMTextGeneratorModel(vocabularySize)\n",
    "criterion = nn.CrossEntropyLoss()\n",
    "optimizer = torch.optim.Adamax(lstm_model.parameters(), lr=0.01)\n",
    "scheduler = lr_scheduler.MultiStepLR(optimizer,milestones=[4,7,9],gamma=0.1);\n",
    "\n",
    "# Train the previously defined model.\n",
    "train_lstm_model(lstm_model, criterion, optimizer, scheduler, trainLoader, valLoader, n_epochs = 10, use_gpu = True)"
   ]
  },
  {
   "cell_type": "markdown",
   "metadata": {},
   "source": [
    "#### Example Sentences"
   ]
  },
  {
   "cell_type": "code",
   "execution_count": 32,
   "metadata": {},
   "outputs": [
    {
     "name": "stdout",
     "output_type": "stream",
     "text": [
      "[START] the cat hides inside of the box [END]\n",
      "[START] the road sign blurred from behind . [END]\n",
      "[START] the mountain range . [END]\n",
      "[START] the kitchen counter has many dishes on the stove . [END]\n",
      "[START] the pastries stuck in a kitchen . [END]\n"
     ]
    }
   ],
   "source": [
    "lstm_model.eval()\n",
    "cuda = True\n",
    "print(sample_lstm_sentence(lstm_model, use_cuda = cuda))\n",
    "print(sample_lstm_sentence(lstm_model, use_cuda = cuda))\n",
    "print(sample_lstm_sentence(lstm_model, use_cuda = cuda))\n",
    "print(sample_lstm_sentence(lstm_model, use_cuda = cuda))\n",
    "print(sample_lstm_sentence(lstm_model, use_cuda = cuda))"
   ]
  },
  {
   "cell_type": "markdown",
   "metadata": {},
   "source": [
    "<span><b>3. </b></span> (4pts) In this question, you will have to reconstruct an input image from its activations. I will not provide you with the image, only the activation values obtained for a certain layer. You will have access to the code that was used to compute these activations. You will have to use back-propagation to reconstruct the input image. Show the reconstructed input image and tell us who is in the picture. Note: Look at the content reconstruction from outputs performed in https://www.cv-foundation.org/openaccess/content_cvpr_2016/html/Gatys_Image_Style_Transfer_CVPR_2016_paper.html"
   ]
  },
  {
   "cell_type": "code",
   "execution_count": null,
   "metadata": {
    "collapsed": true
   },
   "outputs": [],
   "source": [
    "import torchvision.models as models\n",
    "model = models.vgg16(pretrained = True)"
   ]
  },
  {
   "cell_type": "code",
   "execution_count": null,
   "metadata": {
    "collapsed": true
   },
   "outputs": [],
   "source": [
    "import pickle\n",
    "import torchvision.transforms as transforms\n",
    "from PIL import Image\n",
    "\n",
    "preprocessFn = transforms.Compose([transforms.Scale(256), \n",
    "                                   transforms.CenterCrop(224), \n",
    "                                   transforms.ToTensor(), \n",
    "                                   transforms.Normalize(mean = [0.485, 0.456, 0.406], \n",
    "                                                        std=[0.229, 0.224, 0.225])])\n",
    "\n",
    "def model_F(input, kOutput = 19):\n",
    "    prev_input = input\n",
    "    for layer_id in range(0, kOutput + 1):\n",
    "        current_input = model.features[layer_id](prev_input)\n",
    "        prev_input = current_input\n",
    "    return current_input\n",
    "\n",
    "# Read the incognito image. (Obviously this is not provided in the Lab assignment.)\n",
    "image = preprocessFn(Image.open('incognito.jpg').convert('RGB'))\n",
    "image = Variable(image.unsqueeze(0))\n",
    "\n",
    "# Obtain the output of the VGG layer 19.\n",
    "model.eval()\n",
    "target = Variable(model_F(image).data) # Repack variable.\n",
    "\n",
    "print('image.size()', image.size())\n",
    "print('layer-19-output.size()', target.size())\n",
    "torch.save(target.data, open('layer-19-output.p', 'w'))"
   ]
  },
  {
   "cell_type": "code",
   "execution_count": 237,
   "metadata": {},
   "outputs": [
    {
     "data": {
      "application/vnd.jupyter.widget-view+json": {
       "model_id": "de8540556f6a43bda85c29f355b7e617",
       "version_major": 2,
       "version_minor": 0
      },
      "text/html": [
       "<p>Failed to display Jupyter Widget of type <code>HBox</code>.</p>\n",
       "<p>\n",
       "  If you're reading this message in Jupyter Notebook or JupyterLab, it may mean\n",
       "  that the widgets JavaScript is still loading. If this message persists, it\n",
       "  likely means that the widgets JavaScript library is either not installed or\n",
       "  not enabled. See the <a href=\"https://ipywidgets.readthedocs.io/en/stable/user_install.html\">Jupyter\n",
       "  Widgets Documentation</a> for setup instructions.\n",
       "</p>\n",
       "<p>\n",
       "  If you're reading this message in another notebook frontend (for example, a static\n",
       "  rendering on GitHub or <a href=\"https://nbviewer.jupyter.org/\">NBViewer</a>),\n",
       "  it may mean that your frontend doesn't currently support widgets.\n",
       "</p>\n"
      ],
      "text/plain": [
       "HBox(children=(IntProgress(value=0, max=300), HTML(value=u'')))"
      ]
     },
     "metadata": {},
     "output_type": "display_data"
    },
    {
     "name": "stdout",
     "output_type": "stream",
     "text": [
      "299/|/100%|| 299/300 [04:26<00:00,  1.12it/s, loss=0.769]"
     ]
    },
    {
     "data": {
      "image/png": "[encoded data removed]",
      "text/plain": [
       "<matplotlib.figure.Figure at 0x14bee9190>"
      ]
     },
     "metadata": {},
     "output_type": "display_data"
    }
   ],
   "source": [
    "import matplotlib.pyplot as plt\n",
    "%matplotlib inline\n",
    "from tqdm import tqdm_notebook as tqdm\n",
    "\n",
    "def imshow(img):\n",
    "    # convert torch tensor to PIL image and then show image inline.\n",
    "    img = transforms.ToPILImage()(img[0].cpu() * 0.5 + 0.5) # denormalize tensor before convert\n",
    "    plt.imshow(img, aspect = None)\n",
    "    plt.axis('off')\n",
    "    plt.gcf().set_size_inches(4, 4)\n",
    "    plt.show()\n",
    "\n",
    "target = Variable(torch.load(open('layer-19-output.p')))\n",
    "\n",
    "# Your solution goes here. Show the reconstructed input and tell us who is depicted in the incognito.jpg image.\n",
    "\n",
    "#w1 = Variable(torch.randn(1,3,224,224), requires_grad=True) # only used to start first training round\n",
    "w1 = saved\n",
    "criterion = nn.MSELoss()\n",
    "optimizer = torch.optim.Adamax([w1],lr=0.2)\n",
    "\n",
    "#learning_rate = 5\n",
    "tq = tqdm(range(300))\n",
    "for t in tq:\n",
    "    # forward pass\n",
    "    arg = w1.view(1,3,224,224)\n",
    "    prev_input = arg\n",
    "    for layer_id in range(0, 20):\n",
    "        current_input = model.features[layer_id](prev_input)\n",
    "        prev_input = current_input\n",
    "    feats = current_input # intermediate representation\n",
    "    prediction = arg      # predicted 224x224 image\n",
    "\n",
    "    # loss\n",
    "    loss = criterion(feats, target) # optimize loss w.r.t. input image (feats)\n",
    "\n",
    "    # backward pass\n",
    "    optimizer.zero_grad()\n",
    "    loss.backward()\n",
    "    optimizer.step()\n",
    "    \n",
    "    # ugly implementation:  update gradients\n",
    "    #w1.data -= learning_rate * w1.grad.data\n",
    "    #w1.grad.data.zero_()\n",
    "    \n",
    "    loss_val = loss.data[0]\n",
    "    tq.set_postfix(loss = loss.data[0])\n",
    "\n",
    "imshow(prediction.data.clamp(0,1))"
   ]
  },
  {
   "cell_type": "markdown",
   "metadata": {},
   "source": [
    "The person in the image is Rear Admiral Grace Hopper, US Navy, a famous computer scientist who helped develop one of the first compilers.  (I ran the training routine above multiple times and manually adjusted learning rates every 300 iterations--not super smooth, but it worked.)"
   ]
  },
  {
   "cell_type": "markdown",
   "metadata": {},
   "source": [
    "\n"
   ]
  },
  {
   "cell_type": "markdown",
   "metadata": {},
   "source": [
    "<div style=\"font-size:0.8em;color:#888;text-align:center;padding-top:20px;\">If you find any errors or omissions in this material please contact me at vicente@virginia.edu</div>"
   ]
  }
 ],
 "metadata": {
  "kernelspec": {
   "display_name": "Python 2",
   "language": "python",
   "name": "python2"
  },
  "language_info": {
   "codemirror_mode": {
    "name": "ipython",
    "version": 2
   },
   "file_extension": ".py",
   "mimetype": "text/x-python",
   "name": "python",
   "nbconvert_exporter": "python",
   "pygments_lexer": "ipython2",
   "version": "2.7.13"
  }
 },
 "nbformat": 4,
 "nbformat_minor": 1
}
